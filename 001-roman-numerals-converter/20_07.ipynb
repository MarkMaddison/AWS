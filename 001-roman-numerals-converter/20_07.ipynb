{
 "metadata": {
  "language_info": {
   "codemirror_mode": {
    "name": "ipython",
    "version": 3
   },
   "file_extension": ".py",
   "mimetype": "text/x-python",
   "name": "python",
   "nbconvert_exporter": "python",
   "pygments_lexer": "ipython3",
   "version": "3.8.3-final"
  },
  "orig_nbformat": 2,
  "kernelspec": {
   "name": "python38232bit3478b6ffb8bf47f69394e8664556b61c",
   "display_name": "Python 3.8.2 32-bit"
  }
 },
 "nbformat": 4,
 "nbformat_minor": 2,
 "cells": [
  {
   "cell_type": "code",
   "execution_count": 3,
   "metadata": {
    "tags": []
   },
   "outputs": [
    {
     "output_type": "stream",
     "name": "stdout",
     "text": "4.0\n"
    }
   ],
   "source": [
    "result = (lambda x,y: (x+y)/2) (3,5)\n",
    "print(result)"
   ]
  },
  {
   "cell_type": "code",
   "execution_count": 6,
   "metadata": {
    "tags": []
   },
   "outputs": [
    {
     "output_type": "stream",
     "name": "stdout",
     "text": "4.0\n"
    }
   ],
   "source": [
    "print((lambda x,y: (x+y)/2) (3,5))"
   ]
  },
  {
   "cell_type": "code",
   "execution_count": 1,
   "metadata": {
    "tags": []
   },
   "outputs": [
    {
     "output_type": "stream",
     "name": "stdout",
     "text": "ey edip adanada pide ye\ney edip adanada pide ye\n"
    }
   ],
   "source": [
    "metin = input(\"Enter any text : \")\n",
    "print(metin)\n",
    "reverser = (lambda x : x[::-1]) (metin)\n",
    "print(reverser)"
   ]
  },
  {
   "cell_type": "code",
   "execution_count": 11,
   "metadata": {
    "tags": []
   },
   "outputs": [
    {
     "output_type": "stream",
     "name": "stdout",
     "text": "0 : even\n1 : odd\n2 : even\n3 : odd\n4 : even\n5 : odd\n6 : even\n7 : odd\n8 : even\n9 : odd\n10 : even\n"
    }
   ],
   "source": [
    "for x in [0,1,2,3,4,5,6,7,8,9,10]:\n",
    "    print(x, \":\" , (lambda x: \"odd\" if x%2 != 0 else \"even\")(x))"
   ]
  },
  {
   "cell_type": "code",
   "execution_count": 15,
   "metadata": {
    "tags": []
   },
   "outputs": [
    {
     "output_type": "stream",
     "name": "stdout",
     "text": "30\n"
    }
   ],
   "source": [
    "def fun1(num):\n",
    "    return num + 25\n",
    "\n",
    "print(fun1(5))"
   ]
  },
  {
   "cell_type": "code",
   "execution_count": 3,
   "metadata": {
    "tags": []
   },
   "outputs": [
    {
     "output_type": "stream",
     "name": "stdout",
     "text": "(8, 7)\n"
    }
   ],
   "source": [
    "def add(a,b):\n",
    "    #print(a+5, b+5)\n",
    "    return a+5, b+5\n",
    "result = add (3,2)\n",
    "print(result)"
   ]
  },
  {
   "cell_type": "code",
   "execution_count": 6,
   "metadata": {
    "tags": []
   },
   "outputs": [
    {
     "output_type": "stream",
     "name": "stdout",
     "text": "emma 25 female\n"
    }
   ],
   "source": [
    "def fun2(name, gender, age=20):\n",
    "    print(name, age, gender)\n",
    "fun2('emma', 'female',25)"
   ]
  },
  {
   "cell_type": "code",
   "execution_count": null,
   "metadata": {},
   "outputs": [],
   "source": []
  }
 ]
}